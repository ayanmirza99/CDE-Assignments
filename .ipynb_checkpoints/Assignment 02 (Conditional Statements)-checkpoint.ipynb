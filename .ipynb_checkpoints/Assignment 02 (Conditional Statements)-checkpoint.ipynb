{
 "cells": [
  {
   "cell_type": "markdown",
   "metadata": {},
   "source": [
    "1) A company decided to give bonus of 5% to employee if his/her year of service is more than 5 years.\n",
    "Ask user for their salary and year of service and print the net bonus amount."
   ]
  },
  {
   "cell_type": "code",
   "execution_count": null,
   "metadata": {},
   "outputs": [
    {
     "name": "stdout",
     "output_type": "stream",
     "text": [
      "Enter your salary: 3210\n"
     ]
    }
   ],
   "source": [
    "#Type your code here\n",
    "sal = int(input(\"Enter your salary: \"))\n",
    "service = int(input(\"enter years of srv : \"))\n",
    "if service>5:\n",
    "    bonus = sal*0.05\n",
    "    print(\"net bonus amount\",bonus)\n",
    "    print(\"Total salary\", sal+bonus)\n",
    "else:\n",
    "    print(\"no bonuss\")    "
   ]
  },
  {
   "cell_type": "markdown",
   "metadata": {},
   "source": [
    "\n",
    "2) Write a program to check whether a person is eligible for voting or not. (accept age from user) if age is greater than 17 eligible otherwise not eligible"
   ]
  },
  {
   "cell_type": "code",
   "execution_count": null,
   "metadata": {},
   "outputs": [],
   "source": [
    "#Type your code here\n",
    "age = int(input(\"Enter your age\"))\n",
    "if age>17:\n",
    "    print(\"you can vote\")\n",
    "else:\n",
    "    print(\"you can't vote!\")   "
   ]
  },
  {
   "cell_type": "markdown",
   "metadata": {},
   "source": [
    "\n",
    "3) Write a program to check whether a number entered by user is even or odd."
   ]
  },
  {
   "cell_type": "code",
   "execution_count": null,
   "metadata": {},
   "outputs": [],
   "source": [
    "#Type your code here\n",
    "num = int(input(\"Enter a number: \\n\"))\n",
    "if num % 2 == 0 :\n",
    "    print(\"even\")\n",
    "else:\n",
    "    print(\"odd\")  "
   ]
  },
  {
   "cell_type": "markdown",
   "metadata": {},
   "source": [
    "4) Write a program to check whether a number is divisible by 7 or not.\n",
    "Show Answer"
   ]
  },
  {
   "cell_type": "code",
   "execution_count": null,
   "metadata": {},
   "outputs": [],
   "source": [
    "#Type your code here\n",
    "num = int(input(\"Enter a number; \\n\"))\n",
    "if num%7 == 0 :\n",
    "    print(\"divisible by 7\")\n",
    "else:\n",
    "    print(\"not divisible\") "
   ]
  },
  {
   "cell_type": "markdown",
   "metadata": {},
   "source": [
    "5) Write a program to display \n",
    "\"Hello\" if a number entered by user is a multiple of five , otherwise print \"Bye\"."
   ]
  },
  {
   "cell_type": "code",
   "execution_count": null,
   "metadata": {},
   "outputs": [],
   "source": [
    "#Type your code here\n",
    "num = int(input(\"Enter a number; \\n\"))\n",
    "if num%5 == 0 :\n",
    "    print(\"Hello\")\n",
    "else:\n",
    "    print(\"Bye\")    "
   ]
  },
  {
   "cell_type": "markdown",
   "metadata": {},
   "source": [
    "7) Write a program to display the last digit of a number.\n"
   ]
  },
  {
   "cell_type": "code",
   "execution_count": null,
   "metadata": {},
   "outputs": [],
   "source": [
    "#Type your code here\n",
    "num = int(input(\"Enter a number: \\n\"))\n",
    "print(\"last digit: \",num%10)"
   ]
  },
  {
   "cell_type": "markdown",
   "metadata": {},
   "source": [
    "9) Take values of length and breadth of a rectangle from user and print if it is square or rectangle."
   ]
  },
  {
   "cell_type": "code",
   "execution_count": null,
   "metadata": {},
   "outputs": [],
   "source": [
    "#Type your code here \n",
    "length = int(input(\"enter lenght: \\n\"))\n",
    "breadth = int(input(\"enter breadth: \\n\"))\n",
    "if length == breadth:\n",
    "    print(\"square\")\n",
    "else:\n",
    "    print(\"rectangle\")    "
   ]
  },
  {
   "cell_type": "markdown",
   "metadata": {},
   "source": [
    "10) Take two int values from user and print greatest among them."
   ]
  },
  {
   "cell_type": "code",
   "execution_count": null,
   "metadata": {},
   "outputs": [],
   "source": [
    "# Type your code here\n",
    "num1= int(input(\"Enter 1st Number: \\n\"))\n",
    "num2= int(input(\"Enter 2nd Number: \\n\"))\n",
    "if num1>num2:\n",
    "    print(\"greater: \",num1)\n",
    "elif num2>num1:\n",
    "    print(\"greater : \",num2)  \n",
    "else:\n",
    "    print(\"both are equal\")      "
   ]
  },
  {
   "cell_type": "markdown",
   "metadata": {},
   "source": [
    "11) A shop will give discount of 10% if the cost of purchased quantity is more than 1000.\n",
    "Ask user for quantity\n",
    "Suppose, one unit will cost 100.\n",
    "Judge and print total cost for user."
   ]
  },
  {
   "cell_type": "code",
   "execution_count": null,
   "metadata": {},
   "outputs": [],
   "source": [
    "#Type your code here\n",
    "cost = int(input(\"Enter the total cost\"))\n",
    "if cost > 1000:\n",
    "    cost = cost - (cost * 0.1)\n",
    "    print(f\"Total cost after discount: {cost}\")\n",
    "else:\n",
    "    print(\"no discount\")"
   ]
  },
  {
   "cell_type": "markdown",
   "metadata": {},
   "source": [
    "12) A school has following rules for grading system:\n",
    "\n",
    "a. Below 25 - F\n",
    "\n",
    "b. 25 to 45 - E\n",
    "\n",
    "c. 45 to 50 - D\n",
    "\n",
    "d. 50 to 60 - C\n",
    "\n",
    "e. 60 to 80 - B\n",
    "\n",
    "f. Above 80 - A\n",
    "\n",
    "Ask user to enter marks and print the corresponding grade."
   ]
  },
  {
   "cell_type": "code",
   "execution_count": null,
   "metadata": {},
   "outputs": [],
   "source": [
    "#Type your code here\n",
    "marks = int(input(\"Enter marks\"))\n",
    "if marks > 80 and marks<=100:\n",
    "    print(\"A\")\n",
    "elif marks > 60 and marks<=80:\n",
    "    print(\"B\")\n",
    "elif marks > 50 and marks<=60:\n",
    "    print(\"C\")\n",
    "elif marks > 45 and marks<=50:\n",
    "    print(\"D\")\n",
    "elif marks >= 25 and marks<=45:\n",
    "    print(\"E\")\n",
    "elif marks<25:\n",
    "    print(\"F\")    \n",
    "else:\n",
    "    print(\"Invalid Marks\")"
   ]
  },
  {
   "cell_type": "markdown",
   "metadata": {},
   "source": [
    "14)A student will not be allowed to sit in exam if his/her attendence is less than 75%.\n",
    "\n",
    "Take following input from user\n",
    "\n",
    "Number of classes held\n",
    "\n",
    "Number of classes attended.\n",
    "\n",
    "And print\n",
    "\n",
    "percentage of class attended\n",
    "\n",
    "Is student is allowed to sit in exam or not.\n"
   ]
  },
  {
   "cell_type": "code",
   "execution_count": null,
   "metadata": {},
   "outputs": [],
   "source": [
    "#Type your code here\n",
    "total_classes = int(input(\"Enter the total no. of classes held! :\"))\n",
    "attended_classes = int(input(\"Enter the no. of classes u attened :\"))\n",
    "percentage = (attended_classes*100)/total_classes\n",
    "print(f\"Percentage: {percentage}%\")\n",
    "if percentage<75:\n",
    "    print(\"you won't be allowed in class\")\n",
    "else:\n",
    "    print(\"you can take class!\")"
   ]
  },
  {
   "cell_type": "markdown",
   "metadata": {},
   "source": [
    "15) Modify the above question to allow student to sit if he/she has medical cause. Ask user if he/she has medical cause or not ( 'Y' or 'N' ) and print accordingly."
   ]
  },
  {
   "cell_type": "code",
   "execution_count": null,
   "metadata": {},
   "outputs": [],
   "source": [
    "#Type your code here\n",
    "total_classes = int(input(\"Enter the total no. of classes held! :\"))\n",
    "attended_classes = int(input(\"Enter the no. of classes u attened :\"))\n",
    "percentage = (attended_classes*100)/total_classes\n",
    "print(f\"Percentage: {percentage}%\")\n",
    "med = input(\"Do u have a medical issue 'Y' or 'N' \")\n",
    "if percentage<75 and med==\"N\":\n",
    "    print(\"you won't be allowed in class\")\n",
    "elif percentage<75 and med==\"Y\":\n",
    "    print(\"you can take class!\")\n",
    "else:\n",
    "    print(\"you can take class!\")    "
   ]
  },
  {
   "cell_type": "markdown",
   "metadata": {},
   "source": [
    "16) Write a program to check if a year is leap year or not.\n",
    "\n",
    "If a year is divisible by 4 then it is leap year but if the year is century year like 2000, 1900, 2100 then it must be divisible by 400."
   ]
  },
  {
   "cell_type": "code",
   "execution_count": null,
   "metadata": {},
   "outputs": [],
   "source": [
    "#Type your code here\n",
    "year = int(input(\"Enter a Year\"))\n",
    "if year%4 == 0 and (year%100==00 and year%400==0):\n",
    "    print(\"Leap Year\")\n",
    "else :\n",
    "    print(\"Not a Leap Year\")    "
   ]
  },
  {
   "cell_type": "markdown",
   "metadata": {},
   "source": [
    "17) Ask user to enter age, gender ( M or F ), marital status ( Y or N ) and then using following rules print their place of service.\n",
    "\n",
    "if employee is female, then she will work only in urban areas.\n",
    "\n",
    "if employee is a male and age is in between 20 to 40 then he may work in anywhere\n",
    "\n",
    "if employee is male and age is in between 40 t0 60 then he will work in urban areas only.\n",
    "\n",
    "And any other input of age should print \"ERROR\""
   ]
  },
  {
   "cell_type": "code",
   "execution_count": null,
   "metadata": {},
   "outputs": [],
   "source": [
    "#Type your code here\n",
    "age = int(input(\"Enter your age\"))\n",
    "gender = input(\"Enter your gender (M) or (F)\")\n",
    "maritialStatus = input(\"Enter your marital Status (Y or N)\")\n",
    "\n",
    "if(gender == \"F\"):\n",
    "    if maritialStatus == \"Y\":\n",
    "        print(\"you will work in only urban areas\")\n",
    "elif(gender == \"M\"):\n",
    "    if(age>=20 and age<=40):\n",
    "        print(\"You will work anywhere\")\n",
    "    elif(age>40 and age<=60):\n",
    "        print(\"you will work in only urban areas\")\n",
    "else:\n",
    "    print(\"ERROR!\")\n"
   ]
  },
  {
   "cell_type": "markdown",
   "metadata": {},
   "source": [
    "6) Write a program to calculate the electricity bill (accept number of unit from user) according to the following criteria :\n",
    "     Unit                                                     Price  \n",
    "uptp 100 units                                             no charge\n",
    "Next 200 units                                              Rs 5 per unit\n",
    "After 200 units                                             Rs 10 per unit\n",
    "(For example if input unit is 350 than total bill amount is Rs.3500\n",
    "(For example if input unit is 97 than total bill amount is Rs.0\n",
    "(For example if input unit is 150 than total bill amount is Rs.750"
   ]
  },
  {
   "cell_type": "code",
   "execution_count": null,
   "metadata": {},
   "outputs": [],
   "source": [
    "unit = int(input(\"Enter the no. of units : \\n\"))\n",
    "if unit<=100:\n",
    "    print(\"NO CHARGE\")\n",
    "elif unit>100 and unit<=200:\n",
    "    print(\"Total Bill: \",unit*5)\n",
    "elif unit>200:\n",
    "    print(\"Total Bill: \",unit*10)   \n"
   ]
  },
  {
   "cell_type": "markdown",
   "metadata": {},
   "source": [
    "13) Take input of age of 3 people by user and determine oldest and youngest among them."
   ]
  },
  {
   "cell_type": "code",
   "execution_count": null,
   "metadata": {},
   "outputs": [],
   "source": [
    "#Type your code here\n",
    "age1=int(input(\"Enter age:\"))\n",
    "age2=int(input(\"Enter age:\"))\n",
    "age3=int(input(\"Enter age:\"))\n",
    "if age1>age2 and age1>age3:\n",
    "    print(f\"{age1} is the oldest\")\n",
    "elif age2>age1 and age2>age3:\n",
    "    print(f\"{age2} is the oldest\")   \n",
    "elif age3>age1 and age3>age2:\n",
    "    print(f\"{age3} is the oldest\") \n",
    "else:\n",
    "    print(\"All 3 ages are equal!\")    "
   ]
  }
 ],
 "metadata": {
  "kernelspec": {
   "display_name": "Python 3 (ipykernel)",
   "language": "python",
   "name": "python3"
  },
  "language_info": {
   "codemirror_mode": {
    "name": "ipython",
    "version": 3
   },
   "file_extension": ".py",
   "mimetype": "text/x-python",
   "name": "python",
   "nbconvert_exporter": "python",
   "pygments_lexer": "ipython3",
   "version": "3.9.13"
  }
 },
 "nbformat": 4,
 "nbformat_minor": 2
}
